{
  "nbformat": 4,
  "nbformat_minor": 0,
  "metadata": {
    "kernelspec": {
      "display_name": "Python 3",
      "language": "python",
      "name": "python3"
    },
    "language_info": {
      "codemirror_mode": {
        "name": "ipython",
        "version": 3
      },
      "file_extension": ".py",
      "mimetype": "text/x-python",
      "name": "python",
      "nbconvert_exporter": "python",
      "pygments_lexer": "ipython3",
      "version": "3.8.5"
    },
    "colab": {
      "name": "sentiment_analysis_using_FFNN.ipynb",
      "provenance": []
    }
  },
  "cells": [
    {
      "cell_type": "code",
      "metadata": {
        "colab": {
          "base_uri": "https://localhost:8080/"
        },
        "id": "iMAAnSWg9mwL",
        "outputId": "45a09c35-89fd-46e5-fec3-e87c5baacbd8"
      },
      "source": [
        "!pip install ipynb\n",
        "import numpy as np\n",
        "np.random.seed(100)\n",
        "from keras import Model\n",
        "from keras.models import Sequential\n",
        "from keras.layers import Dense, LSTM, Input\n",
        "import spacy\n",
        "import numpy as np\n",
        "from nltk.corpus import movie_reviews\n",
        "from random import shuffle\n",
        "import nltk\n",
        "import en_core_web_lg\n",
        "from sklearn.metrics import classification_report\n",
        "nltk.download('movie_reviews')\n",
        "nltk.download('punkt')"
      ],
      "execution_count": 1,
      "outputs": [
        {
          "output_type": "stream",
          "text": [
            "Collecting ipynb\n",
            "  Downloading https://files.pythonhosted.org/packages/31/42/4c0bbb66390e3a68e04ebf134c8d074a00c18b5882293f8ace5f7497fbf0/ipynb-0.5.1-py3-none-any.whl\n",
            "Installing collected packages: ipynb\n",
            "Successfully installed ipynb-0.5.1\n",
            "[nltk_data] Downloading package movie_reviews to /root/nltk_data...\n",
            "[nltk_data]   Unzipping corpora/movie_reviews.zip.\n",
            "[nltk_data] Downloading package punkt to /root/nltk_data...\n",
            "[nltk_data]   Unzipping tokenizers/punkt.zip.\n"
          ],
          "name": "stdout"
        },
        {
          "output_type": "execute_result",
          "data": {
            "text/plain": [
              "True"
            ]
          },
          "metadata": {
            "tags": []
          },
          "execution_count": 1
        }
      ]
    },
    {
      "cell_type": "code",
      "metadata": {
        "id": "rgxuk1vJ9mwQ"
      },
      "source": [
        "# Load a spacy model for english\n",
        "# !python -m spacy download en_core_web_lg\n",
        "\n",
        "en_model = en_core_web_lg.load()"
      ],
      "execution_count": 7,
      "outputs": []
    },
    {
      "cell_type": "code",
      "metadata": {
        "colab": {
          "base_uri": "https://localhost:8080/"
        },
        "id": "uxQuNLxr9mwS",
        "outputId": "9cc019d9-9860-41f7-b65b-c4b9d901c4c2"
      },
      "source": [
        "for token in en_model('I am taking a lecture on sentiment analysis.'):\n",
        "    print(token, token.pos_, token.lemma_, token.vector.shape)"
      ],
      "execution_count": 8,
      "outputs": [
        {
          "output_type": "stream",
          "text": [
            "I PRON -PRON- (300,)\n",
            "am AUX be (300,)\n",
            "taking VERB take (300,)\n",
            "a DET a (300,)\n",
            "lecture NOUN lecture (300,)\n",
            "on ADP on (300,)\n",
            "sentiment NOUN sentiment (300,)\n",
            "analysis NOUN analysis (300,)\n",
            ". PUNCT . (300,)\n"
          ],
          "name": "stdout"
        }
      ]
    },
    {
      "cell_type": "code",
      "metadata": {
        "id": "1p3eOFpD_kCy"
      },
      "source": [
        "def create_data_label_pairs(n=100):\n",
        "    \"\"\"Create data samples and corresponding labels.\"\"\"\n",
        "    postive_file_ids = movie_reviews.fileids(categories=[\"pos\"])[: n]\n",
        "    negative_file_ids = movie_reviews.fileids(categories=[\"neg\"])[: n]\n",
        "    sentence_lengths_pos, sentence_lengths_neg = list(), list()\n",
        "    data_samples, labels = list(), list()\n",
        "    for file_id in postive_file_ids:\n",
        "        print(file_id)\n",
        "        text = movie_reviews.raw(file_id)\n",
        "        sentence_lengths_pos.append(len(nltk.sent_tokenize(text)))\n",
        "        for sent in nltk.sent_tokenize(text):\n",
        "            data_samples.append(sent)\n",
        "            labels.append(\"pos\")\n",
        "    for file_id in negative_file_ids:\n",
        "        print(file_id)\n",
        "        text = movie_reviews.raw(file_id)\n",
        "        sentence_lengths_neg.append(len(nltk.sent_tokenize(text)))\n",
        "        for sent in nltk.sent_tokenize(text):\n",
        "            data_samples.append(sent)\n",
        "            labels.append(\"neg\")\n",
        "    print('Avg Length for POS Samples =', np.mean(sentence_lengths_pos))\n",
        "    print('Avg Length for NEG Samples =', np.mean(sentence_lengths_neg))\n",
        "    print('Avg Length for All Samples =', np.mean(sentence_lengths_pos + sentence_lengths_neg))\n",
        "    return data_samples, labels"
      ],
      "execution_count": 10,
      "outputs": []
    },
    {
      "cell_type": "code",
      "metadata": {
        "id": "H2dLjSO0Ah8T"
      },
      "source": [
        "def shuffle_items(items):\n",
        "    \"\"\"Shuffle items in a list.\"\"\"\n",
        "    shuffle(items)\n",
        "    return items"
      ],
      "execution_count": 11,
      "outputs": []
    },
    {
      "cell_type": "code",
      "metadata": {
        "id": "Kw8iZKa_AkBG"
      },
      "source": [
        "def select_items_based_on_indexes(items, indexes):\n",
        "    \"\"\"Select items in a list on specified indexes.\"\"\"\n",
        "    return [items[index] for index in indexes]"
      ],
      "execution_count": 12,
      "outputs": []
    },
    {
      "cell_type": "code",
      "metadata": {
        "colab": {
          "base_uri": "https://localhost:8080/"
        },
        "id": "R5z-_9iy_u5q",
        "outputId": "7b5d673c-b5f7-454c-8ae6-249e6ac3a81e"
      },
      "source": [
        "# create new samples of data\n",
        "data_samples, labels = create_data_label_pairs(100)\n",
        "all_indexes = list(range(len(data_samples)))\n",
        "shuffle_items(all_indexes)\n",
        "data_samples = select_items_based_on_indexes(data_samples, all_indexes)\n",
        "labels = select_items_based_on_indexes(labels, all_indexes)\n",
        "# Split train and test data\n",
        "split_point = int(0.8 * len(data_samples))\n",
        "print(split_point)\n",
        "train_data, train_labels = data_samples[: split_point], labels[: split_point]\n",
        "test_data, test_labels = data_samples[split_point:], labels[split_point:]\n",
        "print(len(test_data))"
      ],
      "execution_count": 13,
      "outputs": [
        {
          "output_type": "stream",
          "text": [
            "pos/cv000_29590.txt\n",
            "pos/cv001_18431.txt\n",
            "pos/cv002_15918.txt\n",
            "pos/cv003_11664.txt\n",
            "pos/cv004_11636.txt\n",
            "pos/cv005_29443.txt\n",
            "pos/cv006_15448.txt\n",
            "pos/cv007_4968.txt\n",
            "pos/cv008_29435.txt\n",
            "pos/cv009_29592.txt\n",
            "pos/cv010_29198.txt\n",
            "pos/cv011_12166.txt\n",
            "pos/cv012_29576.txt\n",
            "pos/cv013_10159.txt\n",
            "pos/cv014_13924.txt\n",
            "pos/cv015_29439.txt\n",
            "pos/cv016_4659.txt\n",
            "pos/cv017_22464.txt\n",
            "pos/cv018_20137.txt\n",
            "pos/cv019_14482.txt\n",
            "pos/cv020_8825.txt\n",
            "pos/cv021_15838.txt\n",
            "pos/cv022_12864.txt\n",
            "pos/cv023_12672.txt\n",
            "pos/cv024_6778.txt\n",
            "pos/cv025_3108.txt\n",
            "pos/cv026_29325.txt\n",
            "pos/cv027_25219.txt\n",
            "pos/cv028_26746.txt\n",
            "pos/cv029_18643.txt\n",
            "pos/cv030_21593.txt\n",
            "pos/cv031_18452.txt\n",
            "pos/cv032_22550.txt\n",
            "pos/cv033_24444.txt\n",
            "pos/cv034_29647.txt\n",
            "pos/cv035_3954.txt\n",
            "pos/cv036_16831.txt\n",
            "pos/cv037_18510.txt\n",
            "pos/cv038_9749.txt\n",
            "pos/cv039_6170.txt\n",
            "pos/cv040_8276.txt\n",
            "pos/cv041_21113.txt\n",
            "pos/cv042_10982.txt\n",
            "pos/cv043_15013.txt\n",
            "pos/cv044_16969.txt\n",
            "pos/cv045_23923.txt\n",
            "pos/cv046_10188.txt\n",
            "pos/cv047_1754.txt\n",
            "pos/cv048_16828.txt\n",
            "pos/cv049_20471.txt\n",
            "pos/cv050_11175.txt\n",
            "pos/cv051_10306.txt\n",
            "pos/cv052_29378.txt\n",
            "pos/cv053_21822.txt\n",
            "pos/cv054_4230.txt\n",
            "pos/cv055_8338.txt\n",
            "pos/cv056_13133.txt\n",
            "pos/cv057_7453.txt\n",
            "pos/cv058_8025.txt\n",
            "pos/cv059_28885.txt\n",
            "pos/cv060_10844.txt\n",
            "pos/cv061_8837.txt\n",
            "pos/cv062_23115.txt\n",
            "pos/cv063_28997.txt\n",
            "pos/cv064_24576.txt\n",
            "pos/cv065_15248.txt\n",
            "pos/cv066_10821.txt\n",
            "pos/cv067_19774.txt\n",
            "pos/cv068_13400.txt\n",
            "pos/cv069_10801.txt\n",
            "pos/cv070_12289.txt\n",
            "pos/cv071_12095.txt\n",
            "pos/cv072_6169.txt\n",
            "pos/cv073_21785.txt\n",
            "pos/cv074_6875.txt\n",
            "pos/cv075_6500.txt\n",
            "pos/cv076_24945.txt\n",
            "pos/cv077_22138.txt\n",
            "pos/cv078_14730.txt\n",
            "pos/cv079_11933.txt\n",
            "pos/cv080_13465.txt\n",
            "pos/cv081_16582.txt\n",
            "pos/cv082_11080.txt\n",
            "pos/cv083_24234.txt\n",
            "pos/cv084_13566.txt\n",
            "pos/cv085_1381.txt\n",
            "pos/cv086_18371.txt\n",
            "pos/cv087_1989.txt\n",
            "pos/cv088_24113.txt\n",
            "pos/cv089_11418.txt\n",
            "pos/cv090_0042.txt\n",
            "pos/cv091_7400.txt\n",
            "pos/cv092_28017.txt\n",
            "pos/cv093_13951.txt\n",
            "pos/cv094_27889.txt\n",
            "pos/cv095_28892.txt\n",
            "pos/cv096_11474.txt\n",
            "pos/cv097_24970.txt\n",
            "pos/cv098_15435.txt\n",
            "pos/cv099_10534.txt\n",
            "neg/cv000_29416.txt\n",
            "neg/cv001_19502.txt\n",
            "neg/cv002_17424.txt\n",
            "neg/cv003_12683.txt\n",
            "neg/cv004_12641.txt\n",
            "neg/cv005_29357.txt\n",
            "neg/cv006_17022.txt\n",
            "neg/cv007_4992.txt\n",
            "neg/cv008_29326.txt\n",
            "neg/cv009_29417.txt\n",
            "neg/cv010_29063.txt\n",
            "neg/cv011_13044.txt\n",
            "neg/cv012_29411.txt\n",
            "neg/cv013_10494.txt\n",
            "neg/cv014_15600.txt\n",
            "neg/cv015_29356.txt\n",
            "neg/cv016_4348.txt\n",
            "neg/cv017_23487.txt\n",
            "neg/cv018_21672.txt\n",
            "neg/cv019_16117.txt\n",
            "neg/cv020_9234.txt\n",
            "neg/cv021_17313.txt\n",
            "neg/cv022_14227.txt\n",
            "neg/cv023_13847.txt\n",
            "neg/cv024_7033.txt\n",
            "neg/cv025_29825.txt\n",
            "neg/cv026_29229.txt\n",
            "neg/cv027_26270.txt\n",
            "neg/cv028_26964.txt\n",
            "neg/cv029_19943.txt\n",
            "neg/cv030_22893.txt\n",
            "neg/cv031_19540.txt\n",
            "neg/cv032_23718.txt\n",
            "neg/cv033_25680.txt\n",
            "neg/cv034_29446.txt\n",
            "neg/cv035_3343.txt\n",
            "neg/cv036_18385.txt\n",
            "neg/cv037_19798.txt\n",
            "neg/cv038_9781.txt\n",
            "neg/cv039_5963.txt\n",
            "neg/cv040_8829.txt\n",
            "neg/cv041_22364.txt\n",
            "neg/cv042_11927.txt\n",
            "neg/cv043_16808.txt\n",
            "neg/cv044_18429.txt\n",
            "neg/cv045_25077.txt\n",
            "neg/cv046_10613.txt\n",
            "neg/cv047_18725.txt\n",
            "neg/cv048_18380.txt\n",
            "neg/cv049_21917.txt\n",
            "neg/cv050_12128.txt\n",
            "neg/cv051_10751.txt\n",
            "neg/cv052_29318.txt\n",
            "neg/cv053_23117.txt\n",
            "neg/cv054_4101.txt\n",
            "neg/cv055_8926.txt\n",
            "neg/cv056_14663.txt\n",
            "neg/cv057_7962.txt\n",
            "neg/cv058_8469.txt\n",
            "neg/cv059_28723.txt\n",
            "neg/cv060_11754.txt\n",
            "neg/cv061_9321.txt\n",
            "neg/cv062_24556.txt\n",
            "neg/cv063_28852.txt\n",
            "neg/cv064_25842.txt\n",
            "neg/cv065_16909.txt\n",
            "neg/cv066_11668.txt\n",
            "neg/cv067_21192.txt\n",
            "neg/cv068_14810.txt\n",
            "neg/cv069_11613.txt\n",
            "neg/cv070_13249.txt\n",
            "neg/cv071_12969.txt\n",
            "neg/cv072_5928.txt\n",
            "neg/cv073_23039.txt\n",
            "neg/cv074_7188.txt\n",
            "neg/cv075_6250.txt\n",
            "neg/cv076_26009.txt\n",
            "neg/cv077_23172.txt\n",
            "neg/cv078_16506.txt\n",
            "neg/cv079_12766.txt\n",
            "neg/cv080_14899.txt\n",
            "neg/cv081_18241.txt\n",
            "neg/cv082_11979.txt\n",
            "neg/cv083_25491.txt\n",
            "neg/cv084_15183.txt\n",
            "neg/cv085_15286.txt\n",
            "neg/cv086_19488.txt\n",
            "neg/cv087_2145.txt\n",
            "neg/cv088_25274.txt\n",
            "neg/cv089_12222.txt\n",
            "neg/cv090_0049.txt\n",
            "neg/cv091_7899.txt\n",
            "neg/cv092_27987.txt\n",
            "neg/cv093_15606.txt\n",
            "neg/cv094_27868.txt\n",
            "neg/cv095_28730.txt\n",
            "neg/cv096_12262.txt\n",
            "neg/cv097_26081.txt\n",
            "neg/cv098_17021.txt\n",
            "neg/cv099_11189.txt\n",
            "Avg Length for POS Samples = 34.74\n",
            "Avg Length for NEG Samples = 34.88\n",
            "Avg Length for All Samples = 34.81\n",
            "5569\n",
            "1393\n"
          ],
          "name": "stdout"
        }
      ]
    },
    {
      "cell_type": "code",
      "metadata": {
        "id": "sb3Kdhzk9mwX"
      },
      "source": [
        "index_to_label_dict = {0: \"neg\", 1: \"pos\"}\n",
        "label_to_index_dict = {\"neg\": 0, \"pos\": 1}"
      ],
      "execution_count": 14,
      "outputs": []
    },
    {
      "cell_type": "code",
      "metadata": {
        "id": "3g0-FSjd9mwY"
      },
      "source": [
        "def create_sentence_vectors(sentences):\n",
        "    \"\"\"Create sentence vector for each sentence.\"\"\"\n",
        "    sentence_vectors = np.zeros((len(sentences), 300))\n",
        "    for i, sentence in enumerate(sentences):\n",
        "        parsed = en_model(sentence)\n",
        "        temp_vector = np.zeros((len(parsed), 300))\n",
        "        for token in parsed:\n",
        "            temp_vector[token.i] = token.vector\n",
        "        sentence_vector = np.mean(temp_vector, axis=0)\n",
        "        sentence_vectors[i] = sentence_vector\n",
        "    print(sentence_vectors.shape)\n",
        "    return sentence_vectors"
      ],
      "execution_count": 17,
      "outputs": []
    },
    {
      "cell_type": "code",
      "metadata": {
        "colab": {
          "base_uri": "https://localhost:8080/"
        },
        "id": "Bv8PXG4l9mwZ",
        "outputId": "29f77653-a707-40b2-fbac-4a48aab0e497"
      },
      "source": [
        "train_sentence_vectors = create_sentence_vectors(train_data)\n",
        "print(len(train_data))\n",
        "print(train_sentence_vectors.shape)"
      ],
      "execution_count": 18,
      "outputs": [
        {
          "output_type": "stream",
          "text": [
            "(5569, 300)\n",
            "5569\n",
            "(5569, 300)\n"
          ],
          "name": "stdout"
        }
      ]
    },
    {
      "cell_type": "code",
      "metadata": {
        "colab": {
          "base_uri": "https://localhost:8080/"
        },
        "id": "EX4jGIz79mwZ",
        "outputId": "761b0076-5918-4fcd-fd6a-bb88f906dbd8"
      },
      "source": [
        "train_labels_indexed = np.array([label_to_index_dict[label] for label in train_labels])\n",
        "print(train_labels_indexed.shape)"
      ],
      "execution_count": 19,
      "outputs": [
        {
          "output_type": "stream",
          "text": [
            "(5569,)\n"
          ],
          "name": "stdout"
        }
      ]
    },
    {
      "cell_type": "code",
      "metadata": {
        "colab": {
          "base_uri": "https://localhost:8080/"
        },
        "id": "w2nfY7GdBJ8d",
        "outputId": "9afb5f64-df8a-4b10-8e34-f5105993ca51"
      },
      "source": [
        "# Define a model and train\n",
        "input_layer = Input(shape=(300,), name='input')\n",
        "hidden_layer = Dense(100, name='hidden')(input_layer)\n",
        "output_layer = Dense(2, activation='softmax', name='output')(hidden_layer)\n",
        "model = Model(input_layer, output_layer)\n",
        "print(model.summary())"
      ],
      "execution_count": 20,
      "outputs": [
        {
          "output_type": "stream",
          "text": [
            "Model: \"model\"\n",
            "_________________________________________________________________\n",
            "Layer (type)                 Output Shape              Param #   \n",
            "=================================================================\n",
            "input (InputLayer)           [(None, 300)]             0         \n",
            "_________________________________________________________________\n",
            "hidden (Dense)               (None, 100)               30100     \n",
            "_________________________________________________________________\n",
            "output (Dense)               (None, 2)                 202       \n",
            "=================================================================\n",
            "Total params: 30,302\n",
            "Trainable params: 30,302\n",
            "Non-trainable params: 0\n",
            "_________________________________________________________________\n",
            "None\n"
          ],
          "name": "stdout"
        }
      ]
    },
    {
      "cell_type": "code",
      "metadata": {
        "id": "TiG8QpolBp7_"
      },
      "source": [
        "# Compile the model\n",
        "model.compile(optimizer='Adam',\n",
        "              loss='sparse_categorical_crossentropy',\n",
        "              metrics=['accuracy'])"
      ],
      "execution_count": 21,
      "outputs": []
    },
    {
      "cell_type": "code",
      "metadata": {
        "colab": {
          "base_uri": "https://localhost:8080/"
        },
        "id": "xoeodtGDDCGo",
        "outputId": "33f3b13f-687f-4d7a-b267-fd352c52de2d"
      },
      "source": [
        "# Train on the data\n",
        "model.fit(train_sentence_vectors, train_labels_indexed, batch_size=4, epochs=20)"
      ],
      "execution_count": 22,
      "outputs": [
        {
          "output_type": "stream",
          "text": [
            "Epoch 1/20\n",
            "1393/1393 [==============================] - 15s 1ms/step - loss: 0.6992 - accuracy: 0.5578\n",
            "Epoch 2/20\n",
            "1393/1393 [==============================] - 2s 1ms/step - loss: 0.6570 - accuracy: 0.6025\n",
            "Epoch 3/20\n",
            "1393/1393 [==============================] - 2s 1ms/step - loss: 0.6450 - accuracy: 0.6212\n",
            "Epoch 4/20\n",
            "1393/1393 [==============================] - 2s 1ms/step - loss: 0.6354 - accuracy: 0.6362\n",
            "Epoch 5/20\n",
            "1393/1393 [==============================] - 2s 1ms/step - loss: 0.6288 - accuracy: 0.6437\n",
            "Epoch 6/20\n",
            "1393/1393 [==============================] - 2s 1ms/step - loss: 0.6251 - accuracy: 0.6636\n",
            "Epoch 7/20\n",
            "1393/1393 [==============================] - 2s 1ms/step - loss: 0.6154 - accuracy: 0.6644\n",
            "Epoch 8/20\n",
            "1393/1393 [==============================] - 2s 1ms/step - loss: 0.6216 - accuracy: 0.6517\n",
            "Epoch 9/20\n",
            "1393/1393 [==============================] - 2s 1ms/step - loss: 0.6168 - accuracy: 0.6603\n",
            "Epoch 10/20\n",
            "1393/1393 [==============================] - 2s 1ms/step - loss: 0.6175 - accuracy: 0.6591\n",
            "Epoch 11/20\n",
            "1393/1393 [==============================] - 2s 1ms/step - loss: 0.6157 - accuracy: 0.6647\n",
            "Epoch 12/20\n",
            "1393/1393 [==============================] - 2s 1ms/step - loss: 0.6093 - accuracy: 0.6722\n",
            "Epoch 13/20\n",
            "1393/1393 [==============================] - 2s 1ms/step - loss: 0.6200 - accuracy: 0.6594\n",
            "Epoch 14/20\n",
            "1393/1393 [==============================] - 2s 1ms/step - loss: 0.6184 - accuracy: 0.6612\n",
            "Epoch 15/20\n",
            "1393/1393 [==============================] - 2s 1ms/step - loss: 0.6198 - accuracy: 0.6581\n",
            "Epoch 16/20\n",
            "1393/1393 [==============================] - 2s 1ms/step - loss: 0.6226 - accuracy: 0.6586\n",
            "Epoch 17/20\n",
            "1393/1393 [==============================] - 2s 1ms/step - loss: 0.6153 - accuracy: 0.6681\n",
            "Epoch 18/20\n",
            "1393/1393 [==============================] - 2s 1ms/step - loss: 0.6152 - accuracy: 0.6720\n",
            "Epoch 19/20\n",
            "1393/1393 [==============================] - 2s 1ms/step - loss: 0.6104 - accuracy: 0.6644\n",
            "Epoch 20/20\n",
            "1393/1393 [==============================] - 2s 1ms/step - loss: 0.6006 - accuracy: 0.6795\n"
          ],
          "name": "stdout"
        },
        {
          "output_type": "execute_result",
          "data": {
            "text/plain": [
              "<keras.callbacks.History at 0x7fba61413a90>"
            ]
          },
          "metadata": {
            "tags": []
          },
          "execution_count": 22
        }
      ]
    },
    {
      "cell_type": "code",
      "metadata": {
        "colab": {
          "base_uri": "https://localhost:8080/"
        },
        "id": "BTQOuvGYDO1_",
        "outputId": "95ed85ca-6fd6-4fcf-879e-600db81b2e2a"
      },
      "source": [
        "# predict on test data\n",
        "test_sentence_vectors = create_sentence_vectors(test_data)\n",
        "predicted_sentiment_vectors = model.predict(test_sentence_vectors)\n",
        "print(predicted_sentiment_vectors.shape)"
      ],
      "execution_count": 23,
      "outputs": [
        {
          "output_type": "stream",
          "text": [
            "(1393, 300)\n",
            "(1393, 2)\n"
          ],
          "name": "stdout"
        }
      ]
    },
    {
      "cell_type": "code",
      "metadata": {
        "id": "IXtBtINFGXoZ"
      },
      "source": [
        "# Evaluation\n",
        "predicted_sentiments = list()\n",
        "for pred in predicted_sentiment_vectors:\n",
        "  predicted_sentiments.append(index_to_label_dict[np.argmax(pred)])"
      ],
      "execution_count": 24,
      "outputs": []
    },
    {
      "cell_type": "code",
      "metadata": {
        "colab": {
          "base_uri": "https://localhost:8080/"
        },
        "id": "flArf9-HGyU3",
        "outputId": "ca9c3b75-c46d-4440-d210-5088174896e3"
      },
      "source": [
        "print(classification_report(test_labels, predicted_sentiments))"
      ],
      "execution_count": 25,
      "outputs": [
        {
          "output_type": "stream",
          "text": [
            "              precision    recall  f1-score   support\n",
            "\n",
            "         neg       0.64      0.49      0.56       686\n",
            "         pos       0.60      0.73      0.66       707\n",
            "\n",
            "    accuracy                           0.61      1393\n",
            "   macro avg       0.62      0.61      0.61      1393\n",
            "weighted avg       0.62      0.61      0.61      1393\n",
            "\n"
          ],
          "name": "stdout"
        }
      ]
    },
    {
      "cell_type": "code",
      "metadata": {
        "id": "XpC1FbuZG0Uf"
      },
      "source": [
        ""
      ],
      "execution_count": null,
      "outputs": []
    }
  ]
}